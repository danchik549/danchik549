{
 "cells": [
  {
   "cell_type": "markdown",
   "id": "9cba23aa",
   "metadata": {},
   "source": [
    "### Data Preprocessing"
   ]
  },
  {
   "cell_type": "code",
   "execution_count": 446,
   "id": "7848743f",
   "metadata": {},
   "outputs": [],
   "source": [
    "#!pip install numpy\n",
    "#!pip install matplotlib\n",
    "#!pip install pandas"
   ]
  },
  {
   "cell_type": "markdown",
   "id": "2105f394",
   "metadata": {},
   "source": [
    "### Importing data"
   ]
  },
  {
   "cell_type": "code",
   "execution_count": 447,
   "id": "3ee79eb9",
   "metadata": {},
   "outputs": [],
   "source": [
    "# Importing the libraries\n",
    "import numpy as np\n",
    "import matplotlib.pyplot as plt\n",
    "import pandas as pd"
   ]
  },
  {
   "cell_type": "code",
   "execution_count": 448,
   "id": "f088b015",
   "metadata": {},
   "outputs": [],
   "source": [
    "# Importing the dataset\n",
    "df = pd.read_excel('КР-1.xlsx', sheet_name='Вар (3)')"
   ]
  },
  {
   "cell_type": "code",
   "execution_count": 449,
   "id": "28b7350a",
   "metadata": {},
   "outputs": [
    {
     "data": {
      "text/html": [
       "<div>\n",
       "<style scoped>\n",
       "    .dataframe tbody tr th:only-of-type {\n",
       "        vertical-align: middle;\n",
       "    }\n",
       "\n",
       "    .dataframe tbody tr th {\n",
       "        vertical-align: top;\n",
       "    }\n",
       "\n",
       "    .dataframe thead th {\n",
       "        text-align: right;\n",
       "    }\n",
       "</style>\n",
       "<table border=\"1\" class=\"dataframe\">\n",
       "  <thead>\n",
       "    <tr style=\"text-align: right;\">\n",
       "      <th></th>\n",
       "      <th>Площадь загальна кв.м</th>\n",
       "      <th>Этаж</th>\n",
       "      <th>Количество сотрудников в штаті</th>\n",
       "      <th>Тип</th>\n",
       "      <th>Кількість відгуків в гуглі</th>\n",
       "      <th>Количество чеков в месяц</th>\n",
       "      <th>Среднее количество единиц в чеке</th>\n",
       "      <th>Людинопотік</th>\n",
       "      <th>Середній дохід населення</th>\n",
       "      <th>Зупинка ГТ</th>\n",
       "      <th>Зупинка ГТ додому</th>\n",
       "      <th>Кінцева зупинкка ГТ</th>\n",
       "      <th>Пішохідний перехід</th>\n",
       "      <th>Спеціалізований хліб</th>\n",
       "    </tr>\n",
       "  </thead>\n",
       "  <tbody>\n",
       "    <tr>\n",
       "      <th>0</th>\n",
       "      <td>9.00</td>\n",
       "      <td>1</td>\n",
       "      <td>2</td>\n",
       "      <td>Light</td>\n",
       "      <td>NaN</td>\n",
       "      <td>1230.0</td>\n",
       "      <td>1.56</td>\n",
       "      <td>5211.0</td>\n",
       "      <td>15610.0</td>\n",
       "      <td>1</td>\n",
       "      <td>1</td>\n",
       "      <td>0</td>\n",
       "      <td>0</td>\n",
       "      <td>1</td>\n",
       "    </tr>\n",
       "    <tr>\n",
       "      <th>1</th>\n",
       "      <td>30.00</td>\n",
       "      <td>1</td>\n",
       "      <td>2</td>\n",
       "      <td>Light</td>\n",
       "      <td>8.0</td>\n",
       "      <td>2715.0</td>\n",
       "      <td>2.03</td>\n",
       "      <td>2424.0</td>\n",
       "      <td>12600.0</td>\n",
       "      <td>1</td>\n",
       "      <td>1</td>\n",
       "      <td>1</td>\n",
       "      <td>0</td>\n",
       "      <td>0</td>\n",
       "    </tr>\n",
       "    <tr>\n",
       "      <th>2</th>\n",
       "      <td>15.00</td>\n",
       "      <td>1</td>\n",
       "      <td>2</td>\n",
       "      <td>light</td>\n",
       "      <td>NaN</td>\n",
       "      <td>878.0</td>\n",
       "      <td>1.81</td>\n",
       "      <td>3868.0</td>\n",
       "      <td>12600.0</td>\n",
       "      <td>1</td>\n",
       "      <td>1</td>\n",
       "      <td>0</td>\n",
       "      <td>1</td>\n",
       "      <td>1</td>\n",
       "    </tr>\n",
       "    <tr>\n",
       "      <th>3</th>\n",
       "      <td>20.00</td>\n",
       "      <td>1</td>\n",
       "      <td>2</td>\n",
       "      <td>light</td>\n",
       "      <td>NaN</td>\n",
       "      <td>2346.0</td>\n",
       "      <td>2.18</td>\n",
       "      <td>4546.0</td>\n",
       "      <td>13930.0</td>\n",
       "      <td>1</td>\n",
       "      <td>1</td>\n",
       "      <td>0</td>\n",
       "      <td>0</td>\n",
       "      <td>1</td>\n",
       "    </tr>\n",
       "    <tr>\n",
       "      <th>4</th>\n",
       "      <td>30.00</td>\n",
       "      <td>1</td>\n",
       "      <td>2</td>\n",
       "      <td>light</td>\n",
       "      <td>NaN</td>\n",
       "      <td>2542.0</td>\n",
       "      <td>1.63</td>\n",
       "      <td>3244.0</td>\n",
       "      <td>16030.0</td>\n",
       "      <td>0</td>\n",
       "      <td>0</td>\n",
       "      <td>0</td>\n",
       "      <td>0</td>\n",
       "      <td>0</td>\n",
       "    </tr>\n",
       "    <tr>\n",
       "      <th>...</th>\n",
       "      <td>...</td>\n",
       "      <td>...</td>\n",
       "      <td>...</td>\n",
       "      <td>...</td>\n",
       "      <td>...</td>\n",
       "      <td>...</td>\n",
       "      <td>...</td>\n",
       "      <td>...</td>\n",
       "      <td>...</td>\n",
       "      <td>...</td>\n",
       "      <td>...</td>\n",
       "      <td>...</td>\n",
       "      <td>...</td>\n",
       "      <td>...</td>\n",
       "    </tr>\n",
       "    <tr>\n",
       "      <th>64</th>\n",
       "      <td>51.77</td>\n",
       "      <td>1</td>\n",
       "      <td>6</td>\n",
       "      <td>Standart</td>\n",
       "      <td>4.0</td>\n",
       "      <td>13552.0</td>\n",
       "      <td>1.89</td>\n",
       "      <td>2306.0</td>\n",
       "      <td>8750.0</td>\n",
       "      <td>0</td>\n",
       "      <td>0</td>\n",
       "      <td>0</td>\n",
       "      <td>1</td>\n",
       "      <td>1</td>\n",
       "    </tr>\n",
       "    <tr>\n",
       "      <th>65</th>\n",
       "      <td>27.26</td>\n",
       "      <td>1</td>\n",
       "      <td>4</td>\n",
       "      <td>Light</td>\n",
       "      <td>3.0</td>\n",
       "      <td>7598.0</td>\n",
       "      <td>1.85</td>\n",
       "      <td>4065.0</td>\n",
       "      <td>13300.0</td>\n",
       "      <td>0</td>\n",
       "      <td>0</td>\n",
       "      <td>0</td>\n",
       "      <td>0</td>\n",
       "      <td>1</td>\n",
       "    </tr>\n",
       "    <tr>\n",
       "      <th>66</th>\n",
       "      <td>148.91</td>\n",
       "      <td>1</td>\n",
       "      <td>2</td>\n",
       "      <td>Light</td>\n",
       "      <td>12.0</td>\n",
       "      <td>5431.0</td>\n",
       "      <td>1.99</td>\n",
       "      <td>906.0</td>\n",
       "      <td>11060.0</td>\n",
       "      <td>0</td>\n",
       "      <td>0</td>\n",
       "      <td>0</td>\n",
       "      <td>0</td>\n",
       "      <td>0</td>\n",
       "    </tr>\n",
       "    <tr>\n",
       "      <th>67</th>\n",
       "      <td>50.93</td>\n",
       "      <td>1</td>\n",
       "      <td>3</td>\n",
       "      <td>Standart</td>\n",
       "      <td>17.0</td>\n",
       "      <td>4375.0</td>\n",
       "      <td>1.73</td>\n",
       "      <td>1742.0</td>\n",
       "      <td>11900.0</td>\n",
       "      <td>0</td>\n",
       "      <td>0</td>\n",
       "      <td>0</td>\n",
       "      <td>0</td>\n",
       "      <td>0</td>\n",
       "    </tr>\n",
       "    <tr>\n",
       "      <th>68</th>\n",
       "      <td>30.00</td>\n",
       "      <td>1</td>\n",
       "      <td>3</td>\n",
       "      <td>light</td>\n",
       "      <td>12.0</td>\n",
       "      <td>7355.0</td>\n",
       "      <td>2.13</td>\n",
       "      <td>1132.0</td>\n",
       "      <td>11060.0</td>\n",
       "      <td>0</td>\n",
       "      <td>0</td>\n",
       "      <td>1</td>\n",
       "      <td>1</td>\n",
       "      <td>1</td>\n",
       "    </tr>\n",
       "  </tbody>\n",
       "</table>\n",
       "<p>69 rows × 14 columns</p>\n",
       "</div>"
      ],
      "text/plain": [
       "    Площадь загальна кв.м  Этаж  Количество сотрудников в штаті       Тип  \\\n",
       "0                    9.00     1                               2     Light   \n",
       "1                   30.00     1                               2     Light   \n",
       "2                   15.00     1                               2     light   \n",
       "3                   20.00     1                               2     light   \n",
       "4                   30.00     1                               2     light   \n",
       "..                    ...   ...                             ...       ...   \n",
       "64                  51.77     1                               6  Standart   \n",
       "65                  27.26     1                               4     Light   \n",
       "66                 148.91     1                               2     Light   \n",
       "67                  50.93     1                               3  Standart   \n",
       "68                  30.00     1                               3     light   \n",
       "\n",
       "    Кількість відгуків в гуглі  Количество чеков в месяц  \\\n",
       "0                          NaN                    1230.0   \n",
       "1                          8.0                    2715.0   \n",
       "2                          NaN                     878.0   \n",
       "3                          NaN                    2346.0   \n",
       "4                          NaN                    2542.0   \n",
       "..                         ...                       ...   \n",
       "64                         4.0                   13552.0   \n",
       "65                         3.0                    7598.0   \n",
       "66                        12.0                    5431.0   \n",
       "67                        17.0                    4375.0   \n",
       "68                        12.0                    7355.0   \n",
       "\n",
       "    Среднее количество единиц в чеке  Людинопотік  Середній дохід населення  \\\n",
       "0                               1.56       5211.0                   15610.0   \n",
       "1                               2.03       2424.0                   12600.0   \n",
       "2                               1.81       3868.0                   12600.0   \n",
       "3                               2.18       4546.0                   13930.0   \n",
       "4                               1.63       3244.0                   16030.0   \n",
       "..                               ...          ...                       ...   \n",
       "64                              1.89       2306.0                    8750.0   \n",
       "65                              1.85       4065.0                   13300.0   \n",
       "66                              1.99        906.0                   11060.0   \n",
       "67                              1.73       1742.0                   11900.0   \n",
       "68                              2.13       1132.0                   11060.0   \n",
       "\n",
       "    Зупинка ГТ  Зупинка ГТ додому  Кінцева зупинкка ГТ  Пішохідний перехід  \\\n",
       "0            1                  1                    0                   0   \n",
       "1            1                  1                    1                   0   \n",
       "2            1                  1                    0                   1   \n",
       "3            1                  1                    0                   0   \n",
       "4            0                  0                    0                   0   \n",
       "..         ...                ...                  ...                 ...   \n",
       "64           0                  0                    0                   1   \n",
       "65           0                  0                    0                   0   \n",
       "66           0                  0                    0                   0   \n",
       "67           0                  0                    0                   0   \n",
       "68           0                  0                    1                   1   \n",
       "\n",
       "    Спеціалізований хліб  \n",
       "0                      1  \n",
       "1                      0  \n",
       "2                      1  \n",
       "3                      1  \n",
       "4                      0  \n",
       "..                   ...  \n",
       "64                     1  \n",
       "65                     1  \n",
       "66                     0  \n",
       "67                     0  \n",
       "68                     1  \n",
       "\n",
       "[69 rows x 14 columns]"
      ]
     },
     "execution_count": 449,
     "metadata": {},
     "output_type": "execute_result"
    }
   ],
   "source": [
    "df"
   ]
  },
  {
   "cell_type": "code",
   "execution_count": 450,
   "id": "45224266",
   "metadata": {},
   "outputs": [
    {
     "name": "stdout",
     "output_type": "stream",
     "text": [
      "<class 'pandas.core.frame.DataFrame'>\n",
      "RangeIndex: 69 entries, 0 to 68\n",
      "Data columns (total 14 columns):\n",
      " #   Column                            Non-Null Count  Dtype  \n",
      "---  ------                            --------------  -----  \n",
      " 0   Площадь загальна кв.м             69 non-null     float64\n",
      " 1   Этаж                              69 non-null     int64  \n",
      " 2   Количество сотрудников в штаті    69 non-null     int64  \n",
      " 3   Тип                               69 non-null     object \n",
      " 4   Кількість відгуків в гуглі        39 non-null     float64\n",
      " 5   Количество чеков в месяц          69 non-null     float64\n",
      " 6   Среднее количество единиц в чеке  62 non-null     float64\n",
      " 7   Людинопотік                       64 non-null     float64\n",
      " 8   Середній дохід населення          64 non-null     float64\n",
      " 9   Зупинка ГТ                        69 non-null     int64  \n",
      " 10  Зупинка ГТ додому                 69 non-null     int64  \n",
      " 11  Кінцева зупинкка ГТ               69 non-null     int64  \n",
      " 12  Пішохідний перехід                69 non-null     int64  \n",
      " 13  Спеціалізований хліб              69 non-null     int64  \n",
      "dtypes: float64(6), int64(7), object(1)\n",
      "memory usage: 7.7+ KB\n"
     ]
    }
   ],
   "source": [
    "df.info()"
   ]
  },
  {
   "cell_type": "code",
   "execution_count": 451,
   "id": "25ffa677",
   "metadata": {},
   "outputs": [],
   "source": [
    "# Drop useless\n",
    "df = df.drop(['Этаж'], axis='columns', inplace=False)"
   ]
  },
  {
   "cell_type": "markdown",
   "id": "86b5b17d",
   "metadata": {},
   "source": [
    "### Visualization"
   ]
  },
  {
   "cell_type": "code",
   "execution_count": 452,
   "id": "7e9da30c",
   "metadata": {},
   "outputs": [
    {
     "data": {
      "text/plain": [
       "<AxesSubplot:ylabel='Frequency'>"
      ]
     },
     "execution_count": 452,
     "metadata": {},
     "output_type": "execute_result"
    },
    {
     "data": {
      "image/png": "[encoded data removed]",
      "text/plain": [
       "<Figure size 432x288 with 1 Axes>"
      ]
     },
     "metadata": {
      "needs_background": "light"
     },
     "output_type": "display_data"
    }
   ],
   "source": [
    "# Feature distribution\n",
    "df['Площадь загальна кв.м'].plot(kind = 'hist')"
   ]
  },
  {
   "cell_type": "code",
   "execution_count": 453,
   "id": "4f21447c",
   "metadata": {},
   "outputs": [
    {
     "data": {
      "text/plain": [
       "<AxesSubplot:ylabel='Frequency'>"
      ]
     },
     "execution_count": 453,
     "metadata": {},
     "output_type": "execute_result"
    },
    {
     "data": {
      "image/png": "[encoded data removed]",
      "text/plain": [
       "<Figure size 432x288 with 1 Axes>"
      ]
     },
     "metadata": {
      "needs_background": "light"
     },
     "output_type": "display_data"
    }
   ],
   "source": [
    "# Feature distribution\n",
    "df['Количество сотрудников в штаті'].plot(kind = 'hist')"
   ]
  },
  {
   "cell_type": "code",
   "execution_count": 454,
   "id": "04d18210",
   "metadata": {},
   "outputs": [
    {
     "data": {
      "text/plain": [
       "<AxesSubplot:ylabel='Frequency'>"
      ]
     },
     "execution_count": 454,
     "metadata": {},
     "output_type": "execute_result"
    },
    {
     "data": {
      "image/png": "[encoded data removed]",
      "text/plain": [
       "<Figure size 432x288 with 1 Axes>"
      ]
     },
     "metadata": {
      "needs_background": "light"
     },
     "output_type": "display_data"
    }
   ],
   "source": [
    "# Feature distribution\n",
    "df['Кількість відгуків в гуглі'].plot(kind = 'hist')"
   ]
  },
  {
   "cell_type": "code",
   "execution_count": 455,
   "id": "a65ab483",
   "metadata": {},
   "outputs": [
    {
     "data": {
      "text/plain": [
       "<AxesSubplot:ylabel='Frequency'>"
      ]
     },
     "execution_count": 455,
     "metadata": {},
     "output_type": "execute_result"
    },
    {
     "data": {
      "image/png": "[encoded data removed]",
      "text/plain": [
       "<Figure size 432x288 with 1 Axes>"
      ]
     },
     "metadata": {
      "needs_background": "light"
     },
     "output_type": "display_data"
    }
   ],
   "source": [
    "# Feature distribution\n",
    "df['Количество чеков в месяц'].plot(kind = 'hist')"
   ]
  },
  {
   "cell_type": "code",
   "execution_count": 456,
   "id": "91516f14",
   "metadata": {},
   "outputs": [
    {
     "data": {
      "text/plain": [
       "<AxesSubplot:ylabel='Frequency'>"
      ]
     },
     "execution_count": 456,
     "metadata": {},
     "output_type": "execute_result"
    },
    {
     "data": {
      "image/png": "[encoded data removed]",
      "text/plain": [
       "<Figure size 432x288 with 1 Axes>"
      ]
     },
     "metadata": {
      "needs_background": "light"
     },
     "output_type": "display_data"
    }
   ],
   "source": [
    "# Feature distribution\n",
    "df['Среднее количество единиц в чеке'].plot(kind = 'hist')"
   ]
  },
  {
   "cell_type": "code",
   "execution_count": 457,
   "id": "cee74ec4",
   "metadata": {},
   "outputs": [
    {
     "data": {
      "text/plain": [
       "<AxesSubplot:ylabel='Frequency'>"
      ]
     },
     "execution_count": 457,
     "metadata": {},
     "output_type": "execute_result"
    },
    {
     "data": {
      "image/png": "[encoded data removed]",
      "text/plain": [
       "<Figure size 432x288 with 1 Axes>"
      ]
     },
     "metadata": {
      "needs_background": "light"
     },
     "output_type": "display_data"
    }
   ],
   "source": [
    "# Feature distribution\n",
    "df['Людинопотік'].plot(kind = 'hist')"
   ]
  },
  {
   "cell_type": "code",
   "execution_count": 458,
   "id": "81822b37",
   "metadata": {},
   "outputs": [
    {
     "data": {
      "text/plain": [
       "<AxesSubplot:ylabel='Frequency'>"
      ]
     },
     "execution_count": 458,
     "metadata": {},
     "output_type": "execute_result"
    },
    {
     "data": {
      "image/png": "[encoded data removed]",
      "text/plain": [
       "<Figure size 432x288 with 1 Axes>"
      ]
     },
     "metadata": {
      "needs_background": "light"
     },
     "output_type": "display_data"
    }
   ],
   "source": [
    "# Feature distribution\n",
    "df['Середній дохід населення'].plot(kind = 'hist')"
   ]
  },
  {
   "cell_type": "code",
   "execution_count": 459,
   "id": "8eb47c49",
   "metadata": {},
   "outputs": [
    {
     "data": {
      "text/plain": [
       "<AxesSubplot:ylabel='Frequency'>"
      ]
     },
     "execution_count": 459,
     "metadata": {},
     "output_type": "execute_result"
    },
    {
     "data": {
      "image/png": "[encoded data removed]",
      "text/plain": [
       "<Figure size 432x288 with 1 Axes>"
      ]
     },
     "metadata": {
      "needs_background": "light"
     },
     "output_type": "display_data"
    }
   ],
   "source": [
    "# Feature distribution\n",
    "df['Зупинка ГТ'].plot(kind = 'hist')"
   ]
  },
  {
   "cell_type": "code",
   "execution_count": 460,
   "id": "d183847a",
   "metadata": {},
   "outputs": [
    {
     "data": {
      "text/plain": [
       "<AxesSubplot:ylabel='Frequency'>"
      ]
     },
     "execution_count": 460,
     "metadata": {},
     "output_type": "execute_result"
    },
    {
     "data": {
      "image/png": "[encoded data removed]",
      "text/plain": [
       "<Figure size 432x288 with 1 Axes>"
      ]
     },
     "metadata": {
      "needs_background": "light"
     },
     "output_type": "display_data"
    }
   ],
   "source": [
    "# Feature distribution\n",
    "df['Зупинка ГТ додому'].plot(kind = 'hist')"
   ]
  },
  {
   "cell_type": "code",
   "execution_count": 461,
   "id": "843c99f9",
   "metadata": {},
   "outputs": [
    {
     "data": {
      "text/plain": [
       "<AxesSubplot:ylabel='Frequency'>"
      ]
     },
     "execution_count": 461,
     "metadata": {},
     "output_type": "execute_result"
    },
    {
     "data": {
      "image/png": "[encoded data removed]",
      "text/plain": [
       "<Figure size 432x288 with 1 Axes>"
      ]
     },
     "metadata": {
      "needs_background": "light"
     },
     "output_type": "display_data"
    }
   ],
   "source": [
    "# Feature distribution\n",
    "df['Кінцева зупинкка ГТ'].plot(kind = 'hist')"
   ]
  },
  {
   "cell_type": "code",
   "execution_count": 462,
   "id": "a3343fa5",
   "metadata": {},
   "outputs": [
    {
     "data": {
      "text/plain": [
       "<AxesSubplot:ylabel='Frequency'>"
      ]
     },
     "execution_count": 462,
     "metadata": {},
     "output_type": "execute_result"
    },
    {
     "data": {
      "image/png": "[encoded data removed]",
      "text/plain": [
       "<Figure size 432x288 with 1 Axes>"
      ]
     },
     "metadata": {
      "needs_background": "light"
     },
     "output_type": "display_data"
    }
   ],
   "source": [
    "# Feature distribution\n",
    "df['Пішохідний перехід'].plot(kind = 'hist')"
   ]
  },
  {
   "cell_type": "code",
   "execution_count": 463,
   "id": "5f9e8e4f",
   "metadata": {},
   "outputs": [
    {
     "data": {
      "text/plain": [
       "<AxesSubplot:ylabel='Frequency'>"
      ]
     },
     "execution_count": 463,
     "metadata": {},
     "output_type": "execute_result"
    },
    {
     "data": {
      "image/png": "[encoded data removed]",
      "text/plain": [
       "<Figure size 432x288 with 1 Axes>"
      ]
     },
     "metadata": {
      "needs_background": "light"
     },
     "output_type": "display_data"
    }
   ],
   "source": [
    "# Feature distribution\n",
    "df['Спеціалізований хліб'].plot(kind = 'hist')"
   ]
  },
  {
   "cell_type": "markdown",
   "id": "6ce6dda2",
   "metadata": {},
   "source": [
    "### Statistics"
   ]
  },
  {
   "cell_type": "code",
   "execution_count": 464,
   "id": "603ae654",
   "metadata": {},
   "outputs": [
    {
     "data": {
      "text/html": [
       "<div>\n",
       "<style scoped>\n",
       "    .dataframe tbody tr th:only-of-type {\n",
       "        vertical-align: middle;\n",
       "    }\n",
       "\n",
       "    .dataframe tbody tr th {\n",
       "        vertical-align: top;\n",
       "    }\n",
       "\n",
       "    .dataframe thead th {\n",
       "        text-align: right;\n",
       "    }\n",
       "</style>\n",
       "<table border=\"1\" class=\"dataframe\">\n",
       "  <thead>\n",
       "    <tr style=\"text-align: right;\">\n",
       "      <th></th>\n",
       "      <th>Площадь загальна кв.м</th>\n",
       "      <th>Количество сотрудников в штаті</th>\n",
       "      <th>Кількість відгуків в гуглі</th>\n",
       "      <th>Количество чеков в месяц</th>\n",
       "      <th>Среднее количество единиц в чеке</th>\n",
       "      <th>Людинопотік</th>\n",
       "      <th>Середній дохід населення</th>\n",
       "      <th>Зупинка ГТ</th>\n",
       "      <th>Зупинка ГТ додому</th>\n",
       "      <th>Кінцева зупинкка ГТ</th>\n",
       "      <th>Пішохідний перехід</th>\n",
       "      <th>Спеціалізований хліб</th>\n",
       "    </tr>\n",
       "  </thead>\n",
       "  <tbody>\n",
       "    <tr>\n",
       "      <th>count</th>\n",
       "      <td>69.000000</td>\n",
       "      <td>69.000000</td>\n",
       "      <td>39.000000</td>\n",
       "      <td>69.000000</td>\n",
       "      <td>62.000000</td>\n",
       "      <td>64.000000</td>\n",
       "      <td>64.000000</td>\n",
       "      <td>69.000000</td>\n",
       "      <td>69.000000</td>\n",
       "      <td>69.000000</td>\n",
       "      <td>69.000000</td>\n",
       "      <td>69.000000</td>\n",
       "    </tr>\n",
       "    <tr>\n",
       "      <th>mean</th>\n",
       "      <td>47.412725</td>\n",
       "      <td>3.652174</td>\n",
       "      <td>42.820513</td>\n",
       "      <td>7105.030583</td>\n",
       "      <td>1.896290</td>\n",
       "      <td>2755.765625</td>\n",
       "      <td>11990.421875</td>\n",
       "      <td>0.362319</td>\n",
       "      <td>0.275362</td>\n",
       "      <td>0.086957</td>\n",
       "      <td>0.333333</td>\n",
       "      <td>0.318841</td>\n",
       "    </tr>\n",
       "    <tr>\n",
       "      <th>std</th>\n",
       "      <td>37.862989</td>\n",
       "      <td>1.607209</td>\n",
       "      <td>81.975565</td>\n",
       "      <td>4052.584218</td>\n",
       "      <td>0.218364</td>\n",
       "      <td>2058.993750</td>\n",
       "      <td>2570.309158</td>\n",
       "      <td>0.484192</td>\n",
       "      <td>0.449969</td>\n",
       "      <td>0.283836</td>\n",
       "      <td>0.474858</td>\n",
       "      <td>0.469441</td>\n",
       "    </tr>\n",
       "    <tr>\n",
       "      <th>min</th>\n",
       "      <td>4.000000</td>\n",
       "      <td>2.000000</td>\n",
       "      <td>1.000000</td>\n",
       "      <td>878.000000</td>\n",
       "      <td>1.270000</td>\n",
       "      <td>233.000000</td>\n",
       "      <td>0.000000</td>\n",
       "      <td>0.000000</td>\n",
       "      <td>0.000000</td>\n",
       "      <td>0.000000</td>\n",
       "      <td>0.000000</td>\n",
       "      <td>0.000000</td>\n",
       "    </tr>\n",
       "    <tr>\n",
       "      <th>25%</th>\n",
       "      <td>26.720000</td>\n",
       "      <td>2.000000</td>\n",
       "      <td>5.000000</td>\n",
       "      <td>3734.000000</td>\n",
       "      <td>1.770000</td>\n",
       "      <td>1148.500000</td>\n",
       "      <td>10850.000000</td>\n",
       "      <td>0.000000</td>\n",
       "      <td>0.000000</td>\n",
       "      <td>0.000000</td>\n",
       "      <td>0.000000</td>\n",
       "      <td>0.000000</td>\n",
       "    </tr>\n",
       "    <tr>\n",
       "      <th>50%</th>\n",
       "      <td>32.300000</td>\n",
       "      <td>4.000000</td>\n",
       "      <td>12.000000</td>\n",
       "      <td>6694.000000</td>\n",
       "      <td>1.890000</td>\n",
       "      <td>2208.000000</td>\n",
       "      <td>12250.000000</td>\n",
       "      <td>0.000000</td>\n",
       "      <td>0.000000</td>\n",
       "      <td>0.000000</td>\n",
       "      <td>0.000000</td>\n",
       "      <td>0.000000</td>\n",
       "    </tr>\n",
       "    <tr>\n",
       "      <th>75%</th>\n",
       "      <td>56.240000</td>\n",
       "      <td>4.000000</td>\n",
       "      <td>33.000000</td>\n",
       "      <td>8548.000000</td>\n",
       "      <td>2.017500</td>\n",
       "      <td>3998.750000</td>\n",
       "      <td>13492.500000</td>\n",
       "      <td>1.000000</td>\n",
       "      <td>1.000000</td>\n",
       "      <td>0.000000</td>\n",
       "      <td>1.000000</td>\n",
       "      <td>1.000000</td>\n",
       "    </tr>\n",
       "    <tr>\n",
       "      <th>max</th>\n",
       "      <td>232.300000</td>\n",
       "      <td>8.000000</td>\n",
       "      <td>367.000000</td>\n",
       "      <td>17537.000000</td>\n",
       "      <td>2.540000</td>\n",
       "      <td>10016.000000</td>\n",
       "      <td>16100.000000</td>\n",
       "      <td>1.000000</td>\n",
       "      <td>1.000000</td>\n",
       "      <td>1.000000</td>\n",
       "      <td>1.000000</td>\n",
       "      <td>1.000000</td>\n",
       "    </tr>\n",
       "  </tbody>\n",
       "</table>\n",
       "</div>"
      ],
      "text/plain": [
       "       Площадь загальна кв.м  Количество сотрудников в штаті  \\\n",
       "count              69.000000                       69.000000   \n",
       "mean               47.412725                        3.652174   \n",
       "std                37.862989                        1.607209   \n",
       "min                 4.000000                        2.000000   \n",
       "25%                26.720000                        2.000000   \n",
       "50%                32.300000                        4.000000   \n",
       "75%                56.240000                        4.000000   \n",
       "max               232.300000                        8.000000   \n",
       "\n",
       "       Кількість відгуків в гуглі  Количество чеков в месяц  \\\n",
       "count                   39.000000                 69.000000   \n",
       "mean                    42.820513               7105.030583   \n",
       "std                     81.975565               4052.584218   \n",
       "min                      1.000000                878.000000   \n",
       "25%                      5.000000               3734.000000   \n",
       "50%                     12.000000               6694.000000   \n",
       "75%                     33.000000               8548.000000   \n",
       "max                    367.000000              17537.000000   \n",
       "\n",
       "       Среднее количество единиц в чеке   Людинопотік  \\\n",
       "count                         62.000000     64.000000   \n",
       "mean                           1.896290   2755.765625   \n",
       "std                            0.218364   2058.993750   \n",
       "min                            1.270000    233.000000   \n",
       "25%                            1.770000   1148.500000   \n",
       "50%                            1.890000   2208.000000   \n",
       "75%                            2.017500   3998.750000   \n",
       "max                            2.540000  10016.000000   \n",
       "\n",
       "       Середній дохід населення  Зупинка ГТ  Зупинка ГТ додому  \\\n",
       "count                 64.000000   69.000000          69.000000   \n",
       "mean               11990.421875    0.362319           0.275362   \n",
       "std                 2570.309158    0.484192           0.449969   \n",
       "min                    0.000000    0.000000           0.000000   \n",
       "25%                10850.000000    0.000000           0.000000   \n",
       "50%                12250.000000    0.000000           0.000000   \n",
       "75%                13492.500000    1.000000           1.000000   \n",
       "max                16100.000000    1.000000           1.000000   \n",
       "\n",
       "       Кінцева зупинкка ГТ  Пішохідний перехід  Спеціалізований хліб  \n",
       "count            69.000000           69.000000             69.000000  \n",
       "mean              0.086957            0.333333              0.318841  \n",
       "std               0.283836            0.474858              0.469441  \n",
       "min               0.000000            0.000000              0.000000  \n",
       "25%               0.000000            0.000000              0.000000  \n",
       "50%               0.000000            0.000000              0.000000  \n",
       "75%               0.000000            1.000000              1.000000  \n",
       "max               1.000000            1.000000              1.000000  "
      ]
     },
     "execution_count": 464,
     "metadata": {},
     "output_type": "execute_result"
    }
   ],
   "source": [
    "df.describe()"
   ]
  },
  {
   "cell_type": "markdown",
   "id": "030e45f7",
   "metadata": {},
   "source": [
    "### Missing data"
   ]
  },
  {
   "cell_type": "code",
   "execution_count": 465,
   "id": "a178a708",
   "metadata": {},
   "outputs": [
    {
     "data": {
      "text/plain": [
       "Площадь загальна кв.м                0\n",
       "Количество сотрудников в штаті       0\n",
       "Тип                                  0\n",
       "Кількість відгуків в гуглі          30\n",
       "Количество чеков в месяц             0\n",
       "Среднее количество единиц в чеке     7\n",
       "Людинопотік                          5\n",
       "Середній дохід населення             5\n",
       "Зупинка ГТ                           0\n",
       "Зупинка ГТ додому                    0\n",
       "Кінцева зупинкка ГТ                  0\n",
       "Пішохідний перехід                   0\n",
       "Спеціалізований хліб                 0\n",
       "dtype: int64"
      ]
     },
     "execution_count": 465,
     "metadata": {},
     "output_type": "execute_result"
    }
   ],
   "source": [
    "# Cheking Missing data\n",
    "df.isnull().sum()"
   ]
  },
  {
   "cell_type": "code",
   "execution_count": 466,
   "id": "697b71c5",
   "metadata": {},
   "outputs": [
    {
     "data": {
      "text/plain": [
       "Площадь загальна кв.м               float64\n",
       "Количество сотрудников в штаті        int64\n",
       "Тип                                  object\n",
       "Кількість відгуків в гуглі          float64\n",
       "Количество чеков в месяц            float64\n",
       "Среднее количество единиц в чеке    float64\n",
       "Людинопотік                         float64\n",
       "Середній дохід населення            float64\n",
       "Зупинка ГТ                            int64\n",
       "Зупинка ГТ додому                     int64\n",
       "Кінцева зупинкка ГТ                   int64\n",
       "Пішохідний перехід                    int64\n",
       "Спеціалізований хліб                  int64\n",
       "dtype: object"
      ]
     },
     "execution_count": 466,
     "metadata": {},
     "output_type": "execute_result"
    }
   ],
   "source": [
    "df.dtypes"
   ]
  },
  {
   "cell_type": "code",
   "execution_count": 467,
   "id": "ffa353f7",
   "metadata": {},
   "outputs": [],
   "source": [
    "#!pip install sklearn"
   ]
  },
  {
   "cell_type": "code",
   "execution_count": 468,
   "id": "d7c38ad7",
   "metadata": {},
   "outputs": [],
   "source": [
    "from sklearn.impute import SimpleImputer\n",
    "#numeric\n",
    "'''SimpleImputer - класс\n",
    "imputer_mean - экземпляр\n",
    "fit - метод класса'''\n",
    "\n",
    "imputer_mean = SimpleImputer(missing_values=np.nan, strategy='mean')\n",
    "df[['Кількість відгуків в гуглі']] = imputer_mean.fit_transform(df[['Кількість відгуків в гуглі']]).round()\n",
    "df[['Среднее количество единиц в чеке']] = imputer_mean.fit_transform(df[['Среднее количество единиц в чеке']]).round()\n",
    "df[['Людинопотік']] = imputer_mean.fit_transform(df[['Людинопотік']]).round()\n",
    "df[['Середній дохід населення']] = imputer_mean.fit_transform(df[['Середній дохід населення']]).round()"
   ]
  },
  {
   "cell_type": "code",
   "execution_count": 469,
   "id": "91208357",
   "metadata": {},
   "outputs": [
    {
     "data": {
      "text/plain": [
       "Площадь загальна кв.м               0\n",
       "Количество сотрудников в штаті      0\n",
       "Тип                                 0\n",
       "Кількість відгуків в гуглі          0\n",
       "Количество чеков в месяц            0\n",
       "Среднее количество единиц в чеке    0\n",
       "Людинопотік                         0\n",
       "Середній дохід населення            0\n",
       "Зупинка ГТ                          0\n",
       "Зупинка ГТ додому                   0\n",
       "Кінцева зупинкка ГТ                 0\n",
       "Пішохідний перехід                  0\n",
       "Спеціалізований хліб                0\n",
       "dtype: int64"
      ]
     },
     "execution_count": 469,
     "metadata": {},
     "output_type": "execute_result"
    }
   ],
   "source": [
    "df.isnull().sum()"
   ]
  },
  {
   "cell_type": "markdown",
   "id": "7ef7773b",
   "metadata": {},
   "source": [
    "### Outliers"
   ]
  },
  {
   "cell_type": "code",
   "execution_count": 470,
   "id": "00485e50",
   "metadata": {},
   "outputs": [
    {
     "data": {
      "text/html": [
       "<div>\n",
       "<style scoped>\n",
       "    .dataframe tbody tr th:only-of-type {\n",
       "        vertical-align: middle;\n",
       "    }\n",
       "\n",
       "    .dataframe tbody tr th {\n",
       "        vertical-align: top;\n",
       "    }\n",
       "\n",
       "    .dataframe thead th {\n",
       "        text-align: right;\n",
       "    }\n",
       "</style>\n",
       "<table border=\"1\" class=\"dataframe\">\n",
       "  <thead>\n",
       "    <tr style=\"text-align: right;\">\n",
       "      <th></th>\n",
       "      <th>Площадь загальна кв.м</th>\n",
       "      <th>Количество сотрудников в штаті</th>\n",
       "      <th>Кількість відгуків в гуглі</th>\n",
       "      <th>Количество чеков в месяц</th>\n",
       "      <th>Среднее количество единиц в чеке</th>\n",
       "      <th>Людинопотік</th>\n",
       "      <th>Середній дохід населення</th>\n",
       "      <th>Зупинка ГТ</th>\n",
       "      <th>Зупинка ГТ додому</th>\n",
       "      <th>Кінцева зупинкка ГТ</th>\n",
       "      <th>Пішохідний перехід</th>\n",
       "      <th>Спеціалізований хліб</th>\n",
       "    </tr>\n",
       "  </thead>\n",
       "  <tbody>\n",
       "    <tr>\n",
       "      <th>count</th>\n",
       "      <td>69.000000</td>\n",
       "      <td>69.000000</td>\n",
       "      <td>69.000000</td>\n",
       "      <td>69.000000</td>\n",
       "      <td>69.000000</td>\n",
       "      <td>69.000000</td>\n",
       "      <td>69.000000</td>\n",
       "      <td>69.000000</td>\n",
       "      <td>69.000000</td>\n",
       "      <td>69.000000</td>\n",
       "      <td>69.000000</td>\n",
       "      <td>69.000000</td>\n",
       "    </tr>\n",
       "    <tr>\n",
       "      <th>mean</th>\n",
       "      <td>47.412725</td>\n",
       "      <td>3.652174</td>\n",
       "      <td>42.898551</td>\n",
       "      <td>7105.030583</td>\n",
       "      <td>1.971014</td>\n",
       "      <td>2755.782609</td>\n",
       "      <td>11990.391304</td>\n",
       "      <td>0.362319</td>\n",
       "      <td>0.275362</td>\n",
       "      <td>0.086957</td>\n",
       "      <td>0.333333</td>\n",
       "      <td>0.318841</td>\n",
       "    </tr>\n",
       "    <tr>\n",
       "      <th>std</th>\n",
       "      <td>37.862989</td>\n",
       "      <td>1.607209</td>\n",
       "      <td>61.280489</td>\n",
       "      <td>4052.584218</td>\n",
       "      <td>0.240772</td>\n",
       "      <td>1981.850301</td>\n",
       "      <td>2474.008472</td>\n",
       "      <td>0.484192</td>\n",
       "      <td>0.449969</td>\n",
       "      <td>0.283836</td>\n",
       "      <td>0.474858</td>\n",
       "      <td>0.469441</td>\n",
       "    </tr>\n",
       "    <tr>\n",
       "      <th>min</th>\n",
       "      <td>4.000000</td>\n",
       "      <td>2.000000</td>\n",
       "      <td>1.000000</td>\n",
       "      <td>878.000000</td>\n",
       "      <td>1.000000</td>\n",
       "      <td>233.000000</td>\n",
       "      <td>0.000000</td>\n",
       "      <td>0.000000</td>\n",
       "      <td>0.000000</td>\n",
       "      <td>0.000000</td>\n",
       "      <td>0.000000</td>\n",
       "      <td>0.000000</td>\n",
       "    </tr>\n",
       "    <tr>\n",
       "      <th>25%</th>\n",
       "      <td>26.720000</td>\n",
       "      <td>2.000000</td>\n",
       "      <td>12.000000</td>\n",
       "      <td>3734.000000</td>\n",
       "      <td>2.000000</td>\n",
       "      <td>1296.000000</td>\n",
       "      <td>11060.000000</td>\n",
       "      <td>0.000000</td>\n",
       "      <td>0.000000</td>\n",
       "      <td>0.000000</td>\n",
       "      <td>0.000000</td>\n",
       "      <td>0.000000</td>\n",
       "    </tr>\n",
       "    <tr>\n",
       "      <th>50%</th>\n",
       "      <td>32.300000</td>\n",
       "      <td>4.000000</td>\n",
       "      <td>43.000000</td>\n",
       "      <td>6694.000000</td>\n",
       "      <td>2.000000</td>\n",
       "      <td>2269.000000</td>\n",
       "      <td>12180.000000</td>\n",
       "      <td>0.000000</td>\n",
       "      <td>0.000000</td>\n",
       "      <td>0.000000</td>\n",
       "      <td>0.000000</td>\n",
       "      <td>0.000000</td>\n",
       "    </tr>\n",
       "    <tr>\n",
       "      <th>75%</th>\n",
       "      <td>56.240000</td>\n",
       "      <td>4.000000</td>\n",
       "      <td>43.000000</td>\n",
       "      <td>8548.000000</td>\n",
       "      <td>2.000000</td>\n",
       "      <td>3880.000000</td>\n",
       "      <td>13300.000000</td>\n",
       "      <td>1.000000</td>\n",
       "      <td>1.000000</td>\n",
       "      <td>0.000000</td>\n",
       "      <td>1.000000</td>\n",
       "      <td>1.000000</td>\n",
       "    </tr>\n",
       "    <tr>\n",
       "      <th>max</th>\n",
       "      <td>232.300000</td>\n",
       "      <td>8.000000</td>\n",
       "      <td>367.000000</td>\n",
       "      <td>17537.000000</td>\n",
       "      <td>3.000000</td>\n",
       "      <td>10016.000000</td>\n",
       "      <td>16100.000000</td>\n",
       "      <td>1.000000</td>\n",
       "      <td>1.000000</td>\n",
       "      <td>1.000000</td>\n",
       "      <td>1.000000</td>\n",
       "      <td>1.000000</td>\n",
       "    </tr>\n",
       "  </tbody>\n",
       "</table>\n",
       "</div>"
      ],
      "text/plain": [
       "       Площадь загальна кв.м  Количество сотрудников в штаті  \\\n",
       "count              69.000000                       69.000000   \n",
       "mean               47.412725                        3.652174   \n",
       "std                37.862989                        1.607209   \n",
       "min                 4.000000                        2.000000   \n",
       "25%                26.720000                        2.000000   \n",
       "50%                32.300000                        4.000000   \n",
       "75%                56.240000                        4.000000   \n",
       "max               232.300000                        8.000000   \n",
       "\n",
       "       Кількість відгуків в гуглі  Количество чеков в месяц  \\\n",
       "count                   69.000000                 69.000000   \n",
       "mean                    42.898551               7105.030583   \n",
       "std                     61.280489               4052.584218   \n",
       "min                      1.000000                878.000000   \n",
       "25%                     12.000000               3734.000000   \n",
       "50%                     43.000000               6694.000000   \n",
       "75%                     43.000000               8548.000000   \n",
       "max                    367.000000              17537.000000   \n",
       "\n",
       "       Среднее количество единиц в чеке   Людинопотік  \\\n",
       "count                         69.000000     69.000000   \n",
       "mean                           1.971014   2755.782609   \n",
       "std                            0.240772   1981.850301   \n",
       "min                            1.000000    233.000000   \n",
       "25%                            2.000000   1296.000000   \n",
       "50%                            2.000000   2269.000000   \n",
       "75%                            2.000000   3880.000000   \n",
       "max                            3.000000  10016.000000   \n",
       "\n",
       "       Середній дохід населення  Зупинка ГТ  Зупинка ГТ додому  \\\n",
       "count                 69.000000   69.000000          69.000000   \n",
       "mean               11990.391304    0.362319           0.275362   \n",
       "std                 2474.008472    0.484192           0.449969   \n",
       "min                    0.000000    0.000000           0.000000   \n",
       "25%                11060.000000    0.000000           0.000000   \n",
       "50%                12180.000000    0.000000           0.000000   \n",
       "75%                13300.000000    1.000000           1.000000   \n",
       "max                16100.000000    1.000000           1.000000   \n",
       "\n",
       "       Кінцева зупинкка ГТ  Пішохідний перехід  Спеціалізований хліб  \n",
       "count            69.000000           69.000000             69.000000  \n",
       "mean              0.086957            0.333333              0.318841  \n",
       "std               0.283836            0.474858              0.469441  \n",
       "min               0.000000            0.000000              0.000000  \n",
       "25%               0.000000            0.000000              0.000000  \n",
       "50%               0.000000            0.000000              0.000000  \n",
       "75%               0.000000            1.000000              1.000000  \n",
       "max               1.000000            1.000000              1.000000  "
      ]
     },
     "execution_count": 470,
     "metadata": {},
     "output_type": "execute_result"
    }
   ],
   "source": [
    "df.describe()"
   ]
  },
  {
   "cell_type": "code",
   "execution_count": 471,
   "id": "3de62cbf",
   "metadata": {},
   "outputs": [],
   "source": [
    "# Function Outliers\n",
    "def outliers(df):\n",
    "    num_var = list(df._get_numeric_data().columns)\n",
    "    for col_names in num_var:\n",
    "        df[col_names] = df[col_names].apply(lambda y: df[col_names].mean()-3*df[col_names].std() \n",
    "                            if y < df[col_names].mean()-3*df[col_names].std() else y)\n",
    "        df[col_names] = df[col_names].apply(lambda y: df[col_names].mean()+3*df[col_names].std() \n",
    "                            if y > df[col_names].mean()+3*df[col_names].std() else y)\n",
    "    return(df)"
   ]
  },
  {
   "cell_type": "code",
   "execution_count": 472,
   "id": "bcdc3be3",
   "metadata": {},
   "outputs": [
    {
     "data": {
      "text/html": [
       "<div>\n",
       "<style scoped>\n",
       "    .dataframe tbody tr th:only-of-type {\n",
       "        vertical-align: middle;\n",
       "    }\n",
       "\n",
       "    .dataframe tbody tr th {\n",
       "        vertical-align: top;\n",
       "    }\n",
       "\n",
       "    .dataframe thead th {\n",
       "        text-align: right;\n",
       "    }\n",
       "</style>\n",
       "<table border=\"1\" class=\"dataframe\">\n",
       "  <thead>\n",
       "    <tr style=\"text-align: right;\">\n",
       "      <th></th>\n",
       "      <th>Площадь загальна кв.м</th>\n",
       "      <th>Количество сотрудников в штаті</th>\n",
       "      <th>Кількість відгуків в гуглі</th>\n",
       "      <th>Количество чеков в месяц</th>\n",
       "      <th>Среднее количество единиц в чеке</th>\n",
       "      <th>Людинопотік</th>\n",
       "      <th>Середній дохід населення</th>\n",
       "      <th>Зупинка ГТ</th>\n",
       "      <th>Зупинка ГТ додому</th>\n",
       "      <th>Кінцева зупинкка ГТ</th>\n",
       "      <th>Пішохідний перехід</th>\n",
       "      <th>Спеціалізований хліб</th>\n",
       "    </tr>\n",
       "  </thead>\n",
       "  <tbody>\n",
       "    <tr>\n",
       "      <th>count</th>\n",
       "      <td>69.000000</td>\n",
       "      <td>69.000000</td>\n",
       "      <td>69.000000</td>\n",
       "      <td>69.000000</td>\n",
       "      <td>69.000000</td>\n",
       "      <td>69.000000</td>\n",
       "      <td>69.000000</td>\n",
       "      <td>69.000000</td>\n",
       "      <td>69.000000</td>\n",
       "      <td>69.000000</td>\n",
       "      <td>69.000000</td>\n",
       "      <td>69.000000</td>\n",
       "    </tr>\n",
       "    <tr>\n",
       "      <th>mean</th>\n",
       "      <td>46.379416</td>\n",
       "      <td>3.652174</td>\n",
       "      <td>39.441740</td>\n",
       "      <td>7105.030583</td>\n",
       "      <td>1.975688</td>\n",
       "      <td>2736.729471</td>\n",
       "      <td>12056.599506</td>\n",
       "      <td>0.362319</td>\n",
       "      <td>0.275362</td>\n",
       "      <td>0.081606</td>\n",
       "      <td>0.333333</td>\n",
       "      <td>0.318841</td>\n",
       "    </tr>\n",
       "    <tr>\n",
       "      <th>std</th>\n",
       "      <td>33.459958</td>\n",
       "      <td>1.607209</td>\n",
       "      <td>44.968644</td>\n",
       "      <td>4052.584218</td>\n",
       "      <td>0.170844</td>\n",
       "      <td>1916.259577</td>\n",
       "      <td>2193.651712</td>\n",
       "      <td>0.484192</td>\n",
       "      <td>0.449969</td>\n",
       "      <td>0.266369</td>\n",
       "      <td>0.474858</td>\n",
       "      <td>0.469441</td>\n",
       "    </tr>\n",
       "    <tr>\n",
       "      <th>min</th>\n",
       "      <td>4.000000</td>\n",
       "      <td>2.000000</td>\n",
       "      <td>1.000000</td>\n",
       "      <td>878.000000</td>\n",
       "      <td>1.248699</td>\n",
       "      <td>233.000000</td>\n",
       "      <td>4568.365889</td>\n",
       "      <td>0.000000</td>\n",
       "      <td>0.000000</td>\n",
       "      <td>0.000000</td>\n",
       "      <td>0.000000</td>\n",
       "      <td>0.000000</td>\n",
       "    </tr>\n",
       "    <tr>\n",
       "      <th>25%</th>\n",
       "      <td>26.720000</td>\n",
       "      <td>2.000000</td>\n",
       "      <td>12.000000</td>\n",
       "      <td>3734.000000</td>\n",
       "      <td>2.000000</td>\n",
       "      <td>1296.000000</td>\n",
       "      <td>11060.000000</td>\n",
       "      <td>0.000000</td>\n",
       "      <td>0.000000</td>\n",
       "      <td>0.000000</td>\n",
       "      <td>0.000000</td>\n",
       "      <td>0.000000</td>\n",
       "    </tr>\n",
       "    <tr>\n",
       "      <th>50%</th>\n",
       "      <td>32.300000</td>\n",
       "      <td>4.000000</td>\n",
       "      <td>43.000000</td>\n",
       "      <td>6694.000000</td>\n",
       "      <td>2.000000</td>\n",
       "      <td>2269.000000</td>\n",
       "      <td>12180.000000</td>\n",
       "      <td>0.000000</td>\n",
       "      <td>0.000000</td>\n",
       "      <td>0.000000</td>\n",
       "      <td>0.000000</td>\n",
       "      <td>0.000000</td>\n",
       "    </tr>\n",
       "    <tr>\n",
       "      <th>75%</th>\n",
       "      <td>56.240000</td>\n",
       "      <td>4.000000</td>\n",
       "      <td>43.000000</td>\n",
       "      <td>8548.000000</td>\n",
       "      <td>2.000000</td>\n",
       "      <td>3880.000000</td>\n",
       "      <td>13300.000000</td>\n",
       "      <td>1.000000</td>\n",
       "      <td>1.000000</td>\n",
       "      <td>0.000000</td>\n",
       "      <td>1.000000</td>\n",
       "      <td>1.000000</td>\n",
       "    </tr>\n",
       "    <tr>\n",
       "      <th>max</th>\n",
       "      <td>161.001691</td>\n",
       "      <td>8.000000</td>\n",
       "      <td>226.740019</td>\n",
       "      <td>17537.000000</td>\n",
       "      <td>2.576351</td>\n",
       "      <td>8701.333510</td>\n",
       "      <td>16100.000000</td>\n",
       "      <td>1.000000</td>\n",
       "      <td>1.000000</td>\n",
       "      <td>0.938463</td>\n",
       "      <td>1.000000</td>\n",
       "      <td>1.000000</td>\n",
       "    </tr>\n",
       "  </tbody>\n",
       "</table>\n",
       "</div>"
      ],
      "text/plain": [
       "       Площадь загальна кв.м  Количество сотрудников в штаті  \\\n",
       "count              69.000000                       69.000000   \n",
       "mean               46.379416                        3.652174   \n",
       "std                33.459958                        1.607209   \n",
       "min                 4.000000                        2.000000   \n",
       "25%                26.720000                        2.000000   \n",
       "50%                32.300000                        4.000000   \n",
       "75%                56.240000                        4.000000   \n",
       "max               161.001691                        8.000000   \n",
       "\n",
       "       Кількість відгуків в гуглі  Количество чеков в месяц  \\\n",
       "count                   69.000000                 69.000000   \n",
       "mean                    39.441740               7105.030583   \n",
       "std                     44.968644               4052.584218   \n",
       "min                      1.000000                878.000000   \n",
       "25%                     12.000000               3734.000000   \n",
       "50%                     43.000000               6694.000000   \n",
       "75%                     43.000000               8548.000000   \n",
       "max                    226.740019              17537.000000   \n",
       "\n",
       "       Среднее количество единиц в чеке  Людинопотік  \\\n",
       "count                         69.000000    69.000000   \n",
       "mean                           1.975688  2736.729471   \n",
       "std                            0.170844  1916.259577   \n",
       "min                            1.248699   233.000000   \n",
       "25%                            2.000000  1296.000000   \n",
       "50%                            2.000000  2269.000000   \n",
       "75%                            2.000000  3880.000000   \n",
       "max                            2.576351  8701.333510   \n",
       "\n",
       "       Середній дохід населення  Зупинка ГТ  Зупинка ГТ додому  \\\n",
       "count                 69.000000   69.000000          69.000000   \n",
       "mean               12056.599506    0.362319           0.275362   \n",
       "std                 2193.651712    0.484192           0.449969   \n",
       "min                 4568.365889    0.000000           0.000000   \n",
       "25%                11060.000000    0.000000           0.000000   \n",
       "50%                12180.000000    0.000000           0.000000   \n",
       "75%                13300.000000    1.000000           1.000000   \n",
       "max                16100.000000    1.000000           1.000000   \n",
       "\n",
       "       Кінцева зупинкка ГТ  Пішохідний перехід  Спеціалізований хліб  \n",
       "count            69.000000           69.000000             69.000000  \n",
       "mean              0.081606            0.333333              0.318841  \n",
       "std               0.266369            0.474858              0.469441  \n",
       "min               0.000000            0.000000              0.000000  \n",
       "25%               0.000000            0.000000              0.000000  \n",
       "50%               0.000000            0.000000              0.000000  \n",
       "75%               0.000000            1.000000              1.000000  \n",
       "max               0.938463            1.000000              1.000000  "
      ]
     },
     "execution_count": 472,
     "metadata": {},
     "output_type": "execute_result"
    }
   ],
   "source": [
    "# Outliers\n",
    "df = outliers(df)\n",
    "df.describe()"
   ]
  },
  {
   "cell_type": "markdown",
   "id": "b5c28087",
   "metadata": {},
   "source": [
    "### Encoding"
   ]
  },
  {
   "cell_type": "code",
   "execution_count": 473,
   "id": "5b965932",
   "metadata": {},
   "outputs": [
    {
     "data": {
      "text/html": [
       "<div>\n",
       "<style scoped>\n",
       "    .dataframe tbody tr th:only-of-type {\n",
       "        vertical-align: middle;\n",
       "    }\n",
       "\n",
       "    .dataframe tbody tr th {\n",
       "        vertical-align: top;\n",
       "    }\n",
       "\n",
       "    .dataframe thead th {\n",
       "        text-align: right;\n",
       "    }\n",
       "</style>\n",
       "<table border=\"1\" class=\"dataframe\">\n",
       "  <thead>\n",
       "    <tr style=\"text-align: right;\">\n",
       "      <th></th>\n",
       "      <th>col</th>\n",
       "      <th>nunique</th>\n",
       "      <th>unique</th>\n",
       "      <th>type</th>\n",
       "    </tr>\n",
       "  </thead>\n",
       "  <tbody>\n",
       "    <tr>\n",
       "      <th>0</th>\n",
       "      <td>Тип</td>\n",
       "      <td>5</td>\n",
       "      <td>[Light, light, Standart, Micro, Premium]</td>\n",
       "      <td>object</td>\n",
       "    </tr>\n",
       "  </tbody>\n",
       "</table>\n",
       "</div>"
      ],
      "text/plain": [
       "   col  nunique                                    unique    type\n",
       "0  Тип        5  [Light, light, Standart, Micro, Premium]  object"
      ]
     },
     "execution_count": 473,
     "metadata": {},
     "output_type": "execute_result"
    }
   ],
   "source": [
    "# Cheking categorical data\n",
    "dfs = df[['Тип']]\n",
    "info = []\n",
    "for column in dfs.columns:\n",
    "        vals = {\"col\": column,\n",
    "                \"nunique\": dfs[column].nunique(),\n",
    "                \"unique\": dfs[column].unique(),\n",
    "                \"type\": dfs[column].dtype\n",
    "               }\n",
    "        info.append(vals)\n",
    "pd.DataFrame(info).sort_values(by = \"col\", ascending = False)"
   ]
  },
  {
   "cell_type": "code",
   "execution_count": 474,
   "id": "17275f5d",
   "metadata": {},
   "outputs": [
    {
     "data": {
      "text/html": [
       "<div>\n",
       "<style scoped>\n",
       "    .dataframe tbody tr th:only-of-type {\n",
       "        vertical-align: middle;\n",
       "    }\n",
       "\n",
       "    .dataframe tbody tr th {\n",
       "        vertical-align: top;\n",
       "    }\n",
       "\n",
       "    .dataframe thead th {\n",
       "        text-align: right;\n",
       "    }\n",
       "</style>\n",
       "<table border=\"1\" class=\"dataframe\">\n",
       "  <thead>\n",
       "    <tr style=\"text-align: right;\">\n",
       "      <th></th>\n",
       "      <th>Площадь загальна кв.м</th>\n",
       "      <th>Количество сотрудников в штаті</th>\n",
       "      <th>Тип</th>\n",
       "      <th>Кількість відгуків в гуглі</th>\n",
       "      <th>Количество чеков в месяц</th>\n",
       "      <th>Среднее количество единиц в чеке</th>\n",
       "      <th>Людинопотік</th>\n",
       "      <th>Середній дохід населення</th>\n",
       "      <th>Зупинка ГТ</th>\n",
       "      <th>Зупинка ГТ додому</th>\n",
       "      <th>Кінцева зупинкка ГТ</th>\n",
       "      <th>Пішохідний перехід</th>\n",
       "      <th>Спеціалізований хліб</th>\n",
       "    </tr>\n",
       "  </thead>\n",
       "  <tbody>\n",
       "    <tr>\n",
       "      <th>0</th>\n",
       "      <td>9.00</td>\n",
       "      <td>2</td>\n",
       "      <td>1</td>\n",
       "      <td>43.0</td>\n",
       "      <td>1230.0</td>\n",
       "      <td>2.0</td>\n",
       "      <td>5211.0</td>\n",
       "      <td>15610.0</td>\n",
       "      <td>1</td>\n",
       "      <td>1</td>\n",
       "      <td>0.000000</td>\n",
       "      <td>0</td>\n",
       "      <td>1</td>\n",
       "    </tr>\n",
       "    <tr>\n",
       "      <th>1</th>\n",
       "      <td>30.00</td>\n",
       "      <td>2</td>\n",
       "      <td>1</td>\n",
       "      <td>8.0</td>\n",
       "      <td>2715.0</td>\n",
       "      <td>2.0</td>\n",
       "      <td>2424.0</td>\n",
       "      <td>12600.0</td>\n",
       "      <td>1</td>\n",
       "      <td>1</td>\n",
       "      <td>0.938463</td>\n",
       "      <td>0</td>\n",
       "      <td>0</td>\n",
       "    </tr>\n",
       "    <tr>\n",
       "      <th>2</th>\n",
       "      <td>15.00</td>\n",
       "      <td>2</td>\n",
       "      <td>1</td>\n",
       "      <td>43.0</td>\n",
       "      <td>878.0</td>\n",
       "      <td>2.0</td>\n",
       "      <td>3868.0</td>\n",
       "      <td>12600.0</td>\n",
       "      <td>1</td>\n",
       "      <td>1</td>\n",
       "      <td>0.000000</td>\n",
       "      <td>1</td>\n",
       "      <td>1</td>\n",
       "    </tr>\n",
       "    <tr>\n",
       "      <th>3</th>\n",
       "      <td>20.00</td>\n",
       "      <td>2</td>\n",
       "      <td>1</td>\n",
       "      <td>43.0</td>\n",
       "      <td>2346.0</td>\n",
       "      <td>2.0</td>\n",
       "      <td>4546.0</td>\n",
       "      <td>13930.0</td>\n",
       "      <td>1</td>\n",
       "      <td>1</td>\n",
       "      <td>0.000000</td>\n",
       "      <td>0</td>\n",
       "      <td>1</td>\n",
       "    </tr>\n",
       "    <tr>\n",
       "      <th>4</th>\n",
       "      <td>30.00</td>\n",
       "      <td>2</td>\n",
       "      <td>1</td>\n",
       "      <td>43.0</td>\n",
       "      <td>2542.0</td>\n",
       "      <td>2.0</td>\n",
       "      <td>3244.0</td>\n",
       "      <td>16030.0</td>\n",
       "      <td>0</td>\n",
       "      <td>0</td>\n",
       "      <td>0.000000</td>\n",
       "      <td>0</td>\n",
       "      <td>0</td>\n",
       "    </tr>\n",
       "    <tr>\n",
       "      <th>...</th>\n",
       "      <td>...</td>\n",
       "      <td>...</td>\n",
       "      <td>...</td>\n",
       "      <td>...</td>\n",
       "      <td>...</td>\n",
       "      <td>...</td>\n",
       "      <td>...</td>\n",
       "      <td>...</td>\n",
       "      <td>...</td>\n",
       "      <td>...</td>\n",
       "      <td>...</td>\n",
       "      <td>...</td>\n",
       "      <td>...</td>\n",
       "    </tr>\n",
       "    <tr>\n",
       "      <th>64</th>\n",
       "      <td>51.77</td>\n",
       "      <td>6</td>\n",
       "      <td>2</td>\n",
       "      <td>4.0</td>\n",
       "      <td>13552.0</td>\n",
       "      <td>2.0</td>\n",
       "      <td>2306.0</td>\n",
       "      <td>8750.0</td>\n",
       "      <td>0</td>\n",
       "      <td>0</td>\n",
       "      <td>0.000000</td>\n",
       "      <td>1</td>\n",
       "      <td>1</td>\n",
       "    </tr>\n",
       "    <tr>\n",
       "      <th>65</th>\n",
       "      <td>27.26</td>\n",
       "      <td>4</td>\n",
       "      <td>1</td>\n",
       "      <td>3.0</td>\n",
       "      <td>7598.0</td>\n",
       "      <td>2.0</td>\n",
       "      <td>4065.0</td>\n",
       "      <td>13300.0</td>\n",
       "      <td>0</td>\n",
       "      <td>0</td>\n",
       "      <td>0.000000</td>\n",
       "      <td>0</td>\n",
       "      <td>1</td>\n",
       "    </tr>\n",
       "    <tr>\n",
       "      <th>66</th>\n",
       "      <td>148.91</td>\n",
       "      <td>2</td>\n",
       "      <td>1</td>\n",
       "      <td>12.0</td>\n",
       "      <td>5431.0</td>\n",
       "      <td>2.0</td>\n",
       "      <td>906.0</td>\n",
       "      <td>11060.0</td>\n",
       "      <td>0</td>\n",
       "      <td>0</td>\n",
       "      <td>0.000000</td>\n",
       "      <td>0</td>\n",
       "      <td>0</td>\n",
       "    </tr>\n",
       "    <tr>\n",
       "      <th>67</th>\n",
       "      <td>50.93</td>\n",
       "      <td>3</td>\n",
       "      <td>2</td>\n",
       "      <td>17.0</td>\n",
       "      <td>4375.0</td>\n",
       "      <td>2.0</td>\n",
       "      <td>1742.0</td>\n",
       "      <td>11900.0</td>\n",
       "      <td>0</td>\n",
       "      <td>0</td>\n",
       "      <td>0.000000</td>\n",
       "      <td>0</td>\n",
       "      <td>0</td>\n",
       "    </tr>\n",
       "    <tr>\n",
       "      <th>68</th>\n",
       "      <td>30.00</td>\n",
       "      <td>3</td>\n",
       "      <td>1</td>\n",
       "      <td>12.0</td>\n",
       "      <td>7355.0</td>\n",
       "      <td>2.0</td>\n",
       "      <td>1132.0</td>\n",
       "      <td>11060.0</td>\n",
       "      <td>0</td>\n",
       "      <td>0</td>\n",
       "      <td>0.938463</td>\n",
       "      <td>1</td>\n",
       "      <td>1</td>\n",
       "    </tr>\n",
       "  </tbody>\n",
       "</table>\n",
       "<p>69 rows × 13 columns</p>\n",
       "</div>"
      ],
      "text/plain": [
       "    Площадь загальна кв.м  Количество сотрудников в штаті  Тип  \\\n",
       "0                    9.00                               2    1   \n",
       "1                   30.00                               2    1   \n",
       "2                   15.00                               2    1   \n",
       "3                   20.00                               2    1   \n",
       "4                   30.00                               2    1   \n",
       "..                    ...                             ...  ...   \n",
       "64                  51.77                               6    2   \n",
       "65                  27.26                               4    1   \n",
       "66                 148.91                               2    1   \n",
       "67                  50.93                               3    2   \n",
       "68                  30.00                               3    1   \n",
       "\n",
       "    Кількість відгуків в гуглі  Количество чеков в месяц  \\\n",
       "0                         43.0                    1230.0   \n",
       "1                          8.0                    2715.0   \n",
       "2                         43.0                     878.0   \n",
       "3                         43.0                    2346.0   \n",
       "4                         43.0                    2542.0   \n",
       "..                         ...                       ...   \n",
       "64                         4.0                   13552.0   \n",
       "65                         3.0                    7598.0   \n",
       "66                        12.0                    5431.0   \n",
       "67                        17.0                    4375.0   \n",
       "68                        12.0                    7355.0   \n",
       "\n",
       "    Среднее количество единиц в чеке  Людинопотік  Середній дохід населення  \\\n",
       "0                                2.0       5211.0                   15610.0   \n",
       "1                                2.0       2424.0                   12600.0   \n",
       "2                                2.0       3868.0                   12600.0   \n",
       "3                                2.0       4546.0                   13930.0   \n",
       "4                                2.0       3244.0                   16030.0   \n",
       "..                               ...          ...                       ...   \n",
       "64                               2.0       2306.0                    8750.0   \n",
       "65                               2.0       4065.0                   13300.0   \n",
       "66                               2.0        906.0                   11060.0   \n",
       "67                               2.0       1742.0                   11900.0   \n",
       "68                               2.0       1132.0                   11060.0   \n",
       "\n",
       "    Зупинка ГТ  Зупинка ГТ додому  Кінцева зупинкка ГТ  Пішохідний перехід  \\\n",
       "0            1                  1             0.000000                   0   \n",
       "1            1                  1             0.938463                   0   \n",
       "2            1                  1             0.000000                   1   \n",
       "3            1                  1             0.000000                   0   \n",
       "4            0                  0             0.000000                   0   \n",
       "..         ...                ...                  ...                 ...   \n",
       "64           0                  0             0.000000                   1   \n",
       "65           0                  0             0.000000                   0   \n",
       "66           0                  0             0.000000                   0   \n",
       "67           0                  0             0.000000                   0   \n",
       "68           0                  0             0.938463                   1   \n",
       "\n",
       "    Спеціалізований хліб  \n",
       "0                      1  \n",
       "1                      0  \n",
       "2                      1  \n",
       "3                      1  \n",
       "4                      0  \n",
       "..                   ...  \n",
       "64                     1  \n",
       "65                     1  \n",
       "66                     0  \n",
       "67                     0  \n",
       "68                     1  \n",
       "\n",
       "[69 rows x 13 columns]"
      ]
     },
     "execution_count": 474,
     "metadata": {},
     "output_type": "execute_result"
    }
   ],
   "source": [
    "# Encoding\n",
    "type = {'Micro':0,'Light':1,'light':1,'Standart':2,'Premium':3}\n",
    "df['Тип'] = df['Тип'].map(type)\n",
    "df"
   ]
  },
  {
   "cell_type": "markdown",
   "id": "1cddc0e3",
   "metadata": {},
   "source": [
    "### Correlations"
   ]
  },
  {
   "cell_type": "code",
   "execution_count": 475,
   "id": "1b4e749d",
   "metadata": {},
   "outputs": [
    {
     "data": {
      "image/png": "[encoded data removed]",
      "text/plain": [
       "<Figure size 864x648 with 2 Axes>"
      ]
     },
     "metadata": {
      "needs_background": "light"
     },
     "output_type": "display_data"
    }
   ],
   "source": [
    "# Cheking correlations\n",
    "import seaborn as sns\n",
    "corrmat = df.corr()\n",
    "f, ax = plt.subplots(figsize=(12, 9))\n",
    "sns.heatmap(corrmat, annot=True)\n",
    "plt.show()"
   ]
  },
  {
   "cell_type": "markdown",
   "id": "d3abd239",
   "metadata": {},
   "source": [
    "### Splitting"
   ]
  },
  {
   "cell_type": "code",
   "execution_count": 476,
   "id": "59aa8894",
   "metadata": {},
   "outputs": [],
   "source": [
    "# Splitting the dataset into the Training set and Test set\n",
    "X = df.iloc[:, :-1]\n",
    "y = df['Количество чеков в месяц']\n",
    "from sklearn.model_selection import train_test_split\n",
    "X_train, X_test, y_train, y_test = train_test_split(X, y, test_size=0.2, random_state=10)"
   ]
  },
  {
   "cell_type": "markdown",
   "id": "5c4a12ca",
   "metadata": {},
   "source": [
    "### Simple Linear Regression"
   ]
  },
  {
   "cell_type": "code",
   "execution_count": 477,
   "id": "db0780ff",
   "metadata": {},
   "outputs": [
    {
     "data": {
      "text/plain": [
       "(array([1790.30580914]), 633.1432165073456)"
      ]
     },
     "execution_count": 477,
     "metadata": {},
     "output_type": "execute_result"
    }
   ],
   "source": [
    "# Fitting Simple Linear Regression to the Training set (M2)\n",
    "f1 = ['Количество сотрудников в штаті']\n",
    "\n",
    "from sklearn.linear_model import LinearRegression\n",
    "sr = LinearRegression().fit(X_train[f1], y_train)\n",
    "\n",
    "# Getting parameters\n",
    "sr.coef_, sr.intercept_"
   ]
  },
  {
   "cell_type": "code",
   "execution_count": 478,
   "id": "1790f3eb",
   "metadata": {},
   "outputs": [
    {
     "data": {
      "text/plain": [
       "0.514"
      ]
     },
     "execution_count": 478,
     "metadata": {},
     "output_type": "execute_result"
    }
   ],
   "source": [
    "# Predicting the Test set results\n",
    "y_pred = sr.predict(X_test[f1])\n",
    "\n",
    "# Coefficient of determination R^2\n",
    "sr.score(X_train[f1], y_train).round(3)"
   ]
  },
  {
   "cell_type": "code",
   "execution_count": 479,
   "id": "202763a7",
   "metadata": {},
   "outputs": [
    {
     "data": {
      "text/plain": [
       "(2871.06, 1802.12)"
      ]
     },
     "execution_count": 479,
     "metadata": {},
     "output_type": "execute_result"
    }
   ],
   "source": [
    "# Mean squared error\n",
    "from sklearn.metrics import mean_squared_error\n",
    "mean_squared_error(y_train, sr.predict(X_train[f1]), squared=False).round(2), mean_squared_error(y_test, y_pred, squared=False).round(2)"
   ]
  },
  {
   "cell_type": "code",
   "execution_count": 480,
   "id": "0c133899",
   "metadata": {},
   "outputs": [
    {
     "data": {
      "image/png": "[encoded data removed]",
      "text/plain": [
       "<Figure size 432x288 with 1 Axes>"
      ]
     },
     "metadata": {
      "needs_background": "light"
     },
     "output_type": "display_data"
    }
   ],
   "source": [
    "# Visualising the Test set results\n",
    "plt.scatter(X_test['Количество сотрудников в штаті'], y_test, color = 'red')\n",
    "plt.plot(X_test['Количество сотрудников в штаті'], sr.predict(X_test[f1]), 'bo')\n",
    "plt.title('Количество чеков в месяц vs Количество сотрудников в штаті (Test set)')\n",
    "plt.xlabel('Количество сотрудников в штаті')\n",
    "plt.ylabel('Количество чеков в месяц')\n",
    "plt.show()"
   ]
  },
  {
   "cell_type": "markdown",
   "id": "0e7e567d",
   "metadata": {},
   "source": [
    "### Multiple Linear Regression"
   ]
  },
  {
   "cell_type": "code",
   "execution_count": 481,
   "id": "ac20a8eb",
   "metadata": {},
   "outputs": [],
   "source": [
    "#!pip install statsmodels"
   ]
  },
  {
   "cell_type": "code",
   "execution_count": 482,
   "id": "c272366b",
   "metadata": {},
   "outputs": [
    {
     "data": {
      "text/plain": [
       "1.0"
      ]
     },
     "execution_count": 482,
     "metadata": {},
     "output_type": "execute_result"
    }
   ],
   "source": [
    "# Fitting Multiple Regression\n",
    "mr = LinearRegression().fit(X_train, y_train)\n",
    "\n",
    "# Coefficient of determination R^2\n",
    "mr.score(X_train, y_train).round(3)"
   ]
  },
  {
   "cell_type": "code",
   "execution_count": 483,
   "id": "6e0f0027",
   "metadata": {},
   "outputs": [
    {
     "data": {
      "image/png": "[encoded data removed]",
      "text/plain": [
       "<Figure size 432x288 with 1 Axes>"
      ]
     },
     "metadata": {
      "needs_background": "light"
     },
     "output_type": "display_data"
    }
   ],
   "source": [
    "# Visualising the Test set results\n",
    "plt.scatter(X_test['Количество сотрудников в штаті'], y_test, color = 'red')\n",
    "plt.plot(X_test['Количество сотрудников в штаті'], mr.predict(X_test), 'bo')\n",
    "plt.title('Количество чеков в месяц vs Количество сотрудников в штаті (Test set)')\n",
    "plt.xlabel('Количество сотрудников в штаті')\n",
    "plt.ylabel('Количество чеков в месяц')\n",
    "plt.show()"
   ]
  },
  {
   "cell_type": "code",
   "execution_count": 484,
   "id": "24282e2f",
   "metadata": {},
   "outputs": [
    {
     "data": {
      "text/html": [
       "<table class=\"simpletable\">\n",
       "<caption>OLS Regression Results</caption>\n",
       "<tr>\n",
       "  <th>Dep. Variable:</th>    <td>Количество чеков в месяц</td> <th>  R-squared:         </th> <td>   1.000</td> \n",
       "</tr>\n",
       "<tr>\n",
       "  <th>Model:</th>                       <td>OLS</td>           <th>  Adj. R-squared:    </th> <td>   1.000</td> \n",
       "</tr>\n",
       "<tr>\n",
       "  <th>Method:</th>                 <td>Least Squares</td>      <th>  F-statistic:       </th> <td>1.541e+30</td>\n",
       "</tr>\n",
       "<tr>\n",
       "  <th>Date:</th>                 <td>Tue, 19 Oct 2021</td>     <th>  Prob (F-statistic):</th>  <td>  0.00</td>  \n",
       "</tr>\n",
       "<tr>\n",
       "  <th>Time:</th>                     <td>18:08:46</td>         <th>  Log-Likelihood:    </th> <td>  1341.3</td> \n",
       "</tr>\n",
       "<tr>\n",
       "  <th>No. Observations:</th>          <td>    55</td>          <th>  AIC:               </th> <td>  -2657.</td> \n",
       "</tr>\n",
       "<tr>\n",
       "  <th>Df Residuals:</th>              <td>    42</td>          <th>  BIC:               </th> <td>  -2630.</td> \n",
       "</tr>\n",
       "<tr>\n",
       "  <th>Df Model:</th>                  <td>    12</td>          <th>                     </th>     <td> </td>    \n",
       "</tr>\n",
       "<tr>\n",
       "  <th>Covariance Type:</th>          <td>nonrobust</td>        <th>                     </th>     <td> </td>    \n",
       "</tr>\n",
       "</table>\n",
       "<table class=\"simpletable\">\n",
       "<tr>\n",
       "                  <td></td>                    <th>coef</th>     <th>std err</th>      <th>t</th>      <th>P>|t|</th>  <th>[0.025</th>    <th>0.975]</th>  \n",
       "</tr>\n",
       "<tr>\n",
       "  <th>const</th>                            <td> 4.547e-13</td> <td> 1.87e-11</td> <td>    0.024</td> <td> 0.981</td> <td>-3.73e-11</td> <td> 3.82e-11</td>\n",
       "</tr>\n",
       "<tr>\n",
       "  <th>Площадь загальна кв.м</th>            <td> 4.263e-14</td> <td> 4.36e-14</td> <td>    0.979</td> <td> 0.333</td> <td>-4.53e-14</td> <td> 1.31e-13</td>\n",
       "</tr>\n",
       "<tr>\n",
       "  <th>Количество сотрудников в штаті</th>   <td> 2.274e-13</td> <td> 1.03e-12</td> <td>    0.221</td> <td> 0.826</td> <td>-1.85e-12</td> <td> 2.31e-12</td>\n",
       "</tr>\n",
       "<tr>\n",
       "  <th>Тип</th>                              <td>-2.728e-12</td> <td> 2.63e-12</td> <td>   -1.039</td> <td> 0.305</td> <td>-8.03e-12</td> <td> 2.57e-12</td>\n",
       "</tr>\n",
       "<tr>\n",
       "  <th>Кількість відгуків в гуглі</th>       <td> 7.105e-15</td> <td> 2.54e-14</td> <td>    0.279</td> <td> 0.781</td> <td>-4.42e-14</td> <td> 5.84e-14</td>\n",
       "</tr>\n",
       "<tr>\n",
       "  <th>Количество чеков в месяц</th>         <td>    1.0000</td> <td> 3.77e-16</td> <td> 2.65e+15</td> <td> 0.000</td> <td>    1.000</td> <td>    1.000</td>\n",
       "</tr>\n",
       "<tr>\n",
       "  <th>Среднее количество единиц в чеке</th> <td> 2.956e-12</td> <td> 9.06e-12</td> <td>    0.326</td> <td> 0.746</td> <td>-1.53e-11</td> <td> 2.12e-11</td>\n",
       "</tr>\n",
       "<tr>\n",
       "  <th>Людинопотік</th>                      <td> 2.776e-17</td> <td> 5.83e-16</td> <td>    0.048</td> <td> 0.962</td> <td>-1.15e-15</td> <td>  1.2e-15</td>\n",
       "</tr>\n",
       "<tr>\n",
       "  <th>Середній дохід населення</th>         <td>-6.106e-16</td> <td> 5.31e-16</td> <td>   -1.150</td> <td> 0.257</td> <td>-1.68e-15</td> <td> 4.61e-16</td>\n",
       "</tr>\n",
       "<tr>\n",
       "  <th>Зупинка ГТ</th>                       <td> 1.421e-13</td> <td>  3.1e-12</td> <td>    0.046</td> <td> 0.964</td> <td>-6.11e-12</td> <td>  6.4e-12</td>\n",
       "</tr>\n",
       "<tr>\n",
       "  <th>Зупинка ГТ додому</th>                <td>         0</td> <td> 3.64e-12</td> <td>        0</td> <td> 1.000</td> <td>-7.35e-12</td> <td> 7.35e-12</td>\n",
       "</tr>\n",
       "<tr>\n",
       "  <th>Кінцева зупинкка ГТ</th>              <td>-2.728e-12</td> <td> 4.08e-12</td> <td>   -0.669</td> <td> 0.507</td> <td> -1.1e-11</td> <td>  5.5e-12</td>\n",
       "</tr>\n",
       "<tr>\n",
       "  <th>Пішохідний перехід</th>               <td>-1.364e-12</td> <td> 2.21e-12</td> <td>   -0.617</td> <td> 0.540</td> <td>-5.82e-12</td> <td>  3.1e-12</td>\n",
       "</tr>\n",
       "</table>\n",
       "<table class=\"simpletable\">\n",
       "<tr>\n",
       "  <th>Omnibus:</th>       <td> 0.804</td> <th>  Durbin-Watson:     </th> <td>   0.446</td>\n",
       "</tr>\n",
       "<tr>\n",
       "  <th>Prob(Omnibus):</th> <td> 0.669</td> <th>  Jarque-Bera (JB):  </th> <td>   0.609</td>\n",
       "</tr>\n",
       "<tr>\n",
       "  <th>Skew:</th>          <td> 0.256</td> <th>  Prob(JB):          </th> <td>   0.737</td>\n",
       "</tr>\n",
       "<tr>\n",
       "  <th>Kurtosis:</th>      <td> 2.936</td> <th>  Cond. No.          </th> <td>3.12e+05</td>\n",
       "</tr>\n",
       "</table><br/><br/>Notes:<br/>[1] Standard Errors assume that the covariance matrix of the errors is correctly specified.<br/>[2] The condition number is large, 3.12e+05. This might indicate that there are<br/>strong multicollinearity or other numerical problems."
      ],
      "text/plain": [
       "<class 'statsmodels.iolib.summary.Summary'>\n",
       "\"\"\"\n",
       "                               OLS Regression Results                               \n",
       "====================================================================================\n",
       "Dep. Variable:     Количество чеков в месяц   R-squared:                       1.000\n",
       "Model:                                  OLS   Adj. R-squared:                  1.000\n",
       "Method:                       Least Squares   F-statistic:                 1.541e+30\n",
       "Date:                      Tue, 19 Oct 2021   Prob (F-statistic):               0.00\n",
       "Time:                              18:08:46   Log-Likelihood:                 1341.3\n",
       "No. Observations:                        55   AIC:                            -2657.\n",
       "Df Residuals:                            42   BIC:                            -2630.\n",
       "Df Model:                                12                                         \n",
       "Covariance Type:                  nonrobust                                         \n",
       "====================================================================================================\n",
       "                                       coef    std err          t      P>|t|      [0.025      0.975]\n",
       "----------------------------------------------------------------------------------------------------\n",
       "const                             4.547e-13   1.87e-11      0.024      0.981   -3.73e-11    3.82e-11\n",
       "Площадь загальна кв.м             4.263e-14   4.36e-14      0.979      0.333   -4.53e-14    1.31e-13\n",
       "Количество сотрудников в штаті    2.274e-13   1.03e-12      0.221      0.826   -1.85e-12    2.31e-12\n",
       "Тип                              -2.728e-12   2.63e-12     -1.039      0.305   -8.03e-12    2.57e-12\n",
       "Кількість відгуків в гуглі        7.105e-15   2.54e-14      0.279      0.781   -4.42e-14    5.84e-14\n",
       "Количество чеков в месяц             1.0000   3.77e-16   2.65e+15      0.000       1.000       1.000\n",
       "Среднее количество единиц в чеке  2.956e-12   9.06e-12      0.326      0.746   -1.53e-11    2.12e-11\n",
       "Людинопотік                       2.776e-17   5.83e-16      0.048      0.962   -1.15e-15     1.2e-15\n",
       "Середній дохід населення         -6.106e-16   5.31e-16     -1.150      0.257   -1.68e-15    4.61e-16\n",
       "Зупинка ГТ                        1.421e-13    3.1e-12      0.046      0.964   -6.11e-12     6.4e-12\n",
       "Зупинка ГТ додому                         0   3.64e-12          0      1.000   -7.35e-12    7.35e-12\n",
       "Кінцева зупинкка ГТ              -2.728e-12   4.08e-12     -0.669      0.507    -1.1e-11     5.5e-12\n",
       "Пішохідний перехід               -1.364e-12   2.21e-12     -0.617      0.540   -5.82e-12     3.1e-12\n",
       "==============================================================================\n",
       "Omnibus:                        0.804   Durbin-Watson:                   0.446\n",
       "Prob(Omnibus):                  0.669   Jarque-Bera (JB):                0.609\n",
       "Skew:                           0.256   Prob(JB):                        0.737\n",
       "Kurtosis:                       2.936   Cond. No.                     3.12e+05\n",
       "==============================================================================\n",
       "\n",
       "Notes:\n",
       "[1] Standard Errors assume that the covariance matrix of the errors is correctly specified.\n",
       "[2] The condition number is large, 3.12e+05. This might indicate that there are\n",
       "strong multicollinearity or other numerical problems.\n",
       "\"\"\""
      ]
     },
     "execution_count": 484,
     "metadata": {},
     "output_type": "execute_result"
    }
   ],
   "source": [
    "# Checking p-values\n",
    "import statsmodels.api as sm\n",
    "X1 = sm.add_constant(X_train)\n",
    "mr1 = sm.OLS(y_train, X1).fit()\n",
    "#mr1.pvalues\n",
    "mr1.summary()"
   ]
  },
  {
   "cell_type": "markdown",
   "id": "fc4b5291",
   "metadata": {},
   "source": [
    "### Recursive feature elimination"
   ]
  },
  {
   "cell_type": "code",
   "execution_count": 485,
   "id": "75015cc1",
   "metadata": {},
   "outputs": [],
   "source": [
    "# Feature ranking with recursive feature elimination\n",
    "from sklearn.feature_selection import RFE\n",
    "n_features = X.shape[1]\n",
    "estimator = LinearRegression()\n",
    "selector = RFE(estimator, n_features_to_select = 3)\n",
    "selector = selector.fit(X, y)\n",
    "\n",
    "# Selected Features\n",
    "selected_columns=[]\n",
    "for i in range(n_features):\n",
    "    if selector.support_[i] == True:\n",
    "        selected_columns.append(i)\n",
    "        \n",
    "f_lm = []\n",
    "for column in selected_columns:\n",
    "    f_lm.append(X.columns[column])"
   ]
  },
  {
   "cell_type": "code",
   "execution_count": 486,
   "id": "712a7dd7",
   "metadata": {},
   "outputs": [
    {
     "data": {
      "text/plain": [
       "(array([6.70669054e-13, 1.00000000e+00, 1.42492493e-13]),\n",
       " 1.8189894035458565e-12)"
      ]
     },
     "execution_count": 486,
     "metadata": {},
     "output_type": "execute_result"
    }
   ],
   "source": [
    "# Fitting Optimized Multiple Regression\n",
    "mr_rfe = LinearRegression().fit(X_train[f_lm], y_train)\n",
    "\n",
    "# Getting parameters\n",
    "mr_rfe.coef_, mr_rfe.intercept_"
   ]
  },
  {
   "cell_type": "code",
   "execution_count": 487,
   "id": "f92ed995",
   "metadata": {},
   "outputs": [
    {
     "data": {
      "text/plain": [
       "1.0"
      ]
     },
     "execution_count": 487,
     "metadata": {},
     "output_type": "execute_result"
    }
   ],
   "source": [
    "# Predicting the Test set results\n",
    "y_pred = mr_rfe.predict(X_test[f_lm])\n",
    "\n",
    "# Coefficient of determination R^2\n",
    "mr_rfe.score(X_train[f_lm], y_train).round(3)"
   ]
  },
  {
   "cell_type": "code",
   "execution_count": 488,
   "id": "2669f5e8",
   "metadata": {},
   "outputs": [
    {
     "data": {
      "text/plain": [
       "(0.0, 0.0)"
      ]
     },
     "execution_count": 488,
     "metadata": {},
     "output_type": "execute_result"
    }
   ],
   "source": [
    "# Mean squared error\n",
    "mean_squared_error(y_train, mr_rfe.predict(X_train[f_lm]), squared=False).round(2), mean_squared_error(y_test, y_pred, squared=False).round(2)"
   ]
  },
  {
   "cell_type": "code",
   "execution_count": 489,
   "id": "acd468fe",
   "metadata": {},
   "outputs": [
    {
     "data": {
      "image/png": "[encoded data removed]",
      "text/plain": [
       "<Figure size 432x288 with 1 Axes>"
      ]
     },
     "metadata": {
      "needs_background": "light"
     },
     "output_type": "display_data"
    }
   ],
   "source": [
    "# Visualising the Test set results\n",
    "plt.scatter(X_test['Количество сотрудников в штаті'], y_test, color = 'red')\n",
    "plt.plot(X_test['Количество сотрудников в штаті'], mr_rfe.predict(X_test[f_lm]), 'bo')\n",
    "plt.title('Количество чеков в месяц vs Количество сотрудников в штаті (Test set)')\n",
    "plt.xlabel('Количество сотрудников в штаті')\n",
    "plt.ylabel('Количество чеков в месяц')\n",
    "plt.show()"
   ]
  },
  {
   "cell_type": "markdown",
   "id": "150ee69e",
   "metadata": {},
   "source": [
    "### Backward Elimination"
   ]
  },
  {
   "cell_type": "code",
   "execution_count": 490,
   "id": "2cd0d1fd",
   "metadata": {},
   "outputs": [],
   "source": [
    "# Backward Elimination with p-values\n",
    "def backwardElimination(x, y, sl):\n",
    "    x = sm.add_constant(x)\n",
    "    numVars = x.shape[1]\n",
    "    for i in range(0, numVars):\n",
    "        regressor_OLS = sm.OLS(y, x).fit()\n",
    "        maxVar = max(regressor_OLS.pvalues)\n",
    "        if maxVar > sl:\n",
    "            for j in range(0, numVars - i):\n",
    "                if (regressor_OLS.pvalues[j] == maxVar):\n",
    "                    x = x.drop(x.columns[j], axis=1)\n",
    "    regressor_OLS.summary()\n",
    "    return x\n",
    "\n",
    "SL = 0.0001\n",
    "X_Modeled = backwardElimination(X_train, y_train, SL)"
   ]
  },
  {
   "cell_type": "code",
   "execution_count": 491,
   "id": "bad9485e",
   "metadata": {},
   "outputs": [
    {
     "data": {
      "text/plain": [
       "1.0"
      ]
     },
     "execution_count": 491,
     "metadata": {},
     "output_type": "execute_result"
    }
   ],
   "source": [
    "# Fitting Optimized Multiple Regression\n",
    "mr_be = LinearRegression().fit(X_Modeled, y_train)\n",
    "\n",
    "# Coefficient of determination R^2\n",
    "mr_be.score(X_Modeled, y_train).round(3)"
   ]
  },
  {
   "cell_type": "markdown",
   "id": "91921b7b",
   "metadata": {},
   "source": [
    "### Polynomial Regression"
   ]
  },
  {
   "cell_type": "code",
   "execution_count": 492,
   "id": "ec4e2f5d",
   "metadata": {},
   "outputs": [
    {
     "data": {
      "text/plain": [
       "(array([-5.07716613e-10,  1.21130162e-02, -5.87517681e-04, -2.10023672e-04,\n",
       "         2.09268792e-02,  9.78444055e-01, -6.38962828e-06, -1.10835981e-01,\n",
       "         5.96515102e-02, -2.90740890e-04, -2.34405129e-04, -2.00650851e-04,\n",
       "        -1.52397015e-03, -2.65767277e-05, -2.23313578e-04,  1.44243630e-03,\n",
       "         1.94499332e-05, -6.86884855e-09, -9.05916485e-03,  2.22415060e-06,\n",
       "         9.09793596e-08,  2.52216081e-03, -7.86885467e-03, -7.38204117e-03,\n",
       "        -2.89311340e-04, -7.00550992e-03,  6.05824936e-03, -4.31552510e-04,\n",
       "         1.18685944e-05, -2.67902403e-03, -1.51033270e-05,  3.16922601e-06,\n",
       "        -2.30307617e-03,  5.86951049e-04, -5.71188205e-04,  6.08499983e-03,\n",
       "        -1.49251383e-03, -2.41181369e-04, -1.47385677e-05, -6.81361168e-04,\n",
       "        -2.37220862e-06,  1.33722950e-08,  1.87894164e-04,  1.59766635e-04,\n",
       "        -2.00650895e-04,  1.18520140e-03, -4.98982080e-06,  2.16598870e-07,\n",
       "        -1.35304740e-02,  6.51098032e-08,  4.04552429e-07,  6.55988177e-04,\n",
       "         1.01798184e-03, -5.04648812e-03, -2.02082659e-04, -1.14545451e-09,\n",
       "         1.07524847e-02, -4.65066596e-11,  3.21239607e-09, -6.52849843e-06,\n",
       "         1.53803891e-05, -8.63310121e-06, -8.74572558e-06, -3.50725574e-04,\n",
       "         5.54525273e-02, -2.99009072e-02, -8.30016729e-04, -7.17345141e-04,\n",
       "        -4.01301790e-04, -3.04794030e-03, -6.37462638e-10, -7.44967277e-09,\n",
       "         1.18922472e-07,  3.12057032e-05, -1.39106521e-05, -3.12091609e-05,\n",
       "         4.87620444e-09, -4.05267716e-06,  5.86265624e-06,  2.57584244e-05,\n",
       "         1.25807448e-05, -2.90740902e-04, -1.58342673e-03, -6.53440315e-04,\n",
       "         8.10582485e-04, -2.34405108e-04, -6.53440315e-04, -1.09923324e-03,\n",
       "        -1.88303518e-04,  3.77181834e-04, -1.52397015e-03]),\n",
       " 1.2444394379917867)"
      ]
     },
     "execution_count": 492,
     "metadata": {},
     "output_type": "execute_result"
    }
   ],
   "source": [
    "# Fitting Polynomial Regression to the dataset\n",
    "from sklearn.preprocessing import PolynomialFeatures\n",
    "X_train_p = PolynomialFeatures().fit_transform(X_train)\n",
    "X_test_p = PolynomialFeatures().fit_transform(X_test)\n",
    "\n",
    "pr = LinearRegression().fit(X_train_p, y_train)\n",
    "\n",
    "# Getting parameters\n",
    "pr.coef_, pr.intercept_"
   ]
  },
  {
   "cell_type": "code",
   "execution_count": 493,
   "id": "a772a7af",
   "metadata": {},
   "outputs": [
    {
     "data": {
      "text/plain": [
       "1.0"
      ]
     },
     "execution_count": 493,
     "metadata": {},
     "output_type": "execute_result"
    }
   ],
   "source": [
    "# Predicting the Test set results\n",
    "y_pred = pr.predict(X_test_p)\n",
    "\n",
    "# Coefficient of determination R^2\n",
    "pr.score(X_train_p, y_train).round(3)"
   ]
  },
  {
   "cell_type": "code",
   "execution_count": 494,
   "id": "e1ca3f2e",
   "metadata": {},
   "outputs": [
    {
     "data": {
      "text/plain": [
       "(0.0, 36.86)"
      ]
     },
     "execution_count": 494,
     "metadata": {},
     "output_type": "execute_result"
    }
   ],
   "source": [
    "# Mean squared error\n",
    "mean_squared_error(y_train, pr.predict(X_train_p), squared=False).round(2), mean_squared_error(y_test, y_pred, squared=False).round(2)"
   ]
  },
  {
   "cell_type": "code",
   "execution_count": 495,
   "id": "e351cc36",
   "metadata": {},
   "outputs": [
    {
     "data": {
      "image/png": "[encoded data removed]",
      "text/plain": [
       "<Figure size 432x288 with 1 Axes>"
      ]
     },
     "metadata": {
      "needs_background": "light"
     },
     "output_type": "display_data"
    }
   ],
   "source": [
    "# Visualising the Test set results\n",
    "plt.scatter(X_test['Количество сотрудников в штаті'], y_test, color = 'red')\n",
    "plt.plot(X_test['Количество сотрудников в штаті'], pr.predict(X_test_p), 'bo')\n",
    "plt.title('Количество чеков в месяц vs Количество сотрудников в штаті (Test set)')\n",
    "plt.xlabel('Количество сотрудников в штаті')\n",
    "plt.ylabel('Количество чеков в месяц')\n",
    "plt.show()"
   ]
  },
  {
   "cell_type": "code",
   "execution_count": 498,
   "id": "767f4b62",
   "metadata": {},
   "outputs": [],
   "source": [
    "# Никаких выводов сделать не могу, так как, наверняка, где-то допущены ошибки, и R^2 в большинстве случаев равен 1.\n",
    "# Либо причина в том, что в обрабатываемом дата врейме всего 69 значений."
   ]
  },
  {
   "cell_type": "code",
   "execution_count": null,
   "id": "496e3478",
   "metadata": {},
   "outputs": [],
   "source": []
  }
 ],
 "metadata": {
  "kernelspec": {
   "display_name": "Python 3",
   "language": "python",
   "name": "python3"
  },
  "language_info": {
   "codemirror_mode": {
    "name": "ipython",
    "version": 3
   },
   "file_extension": ".py",
   "mimetype": "text/x-python",
   "name": "python",
   "nbconvert_exporter": "python",
   "pygments_lexer": "ipython3",
   "version": "3.8.8"
  }
 },
 "nbformat": 4,
 "nbformat_minor": 5
}
